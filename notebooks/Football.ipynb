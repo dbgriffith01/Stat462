{
 "cells": [
  {
   "cell_type": "code",
   "execution_count": 1,
   "metadata": {},
   "outputs": [
    {
     "name": "stderr",
     "output_type": "stream",
     "text": [
      "C:\\Users\\dbg138\\AppData\\Local\\Continuum\\anaconda3\\lib\\site-packages\\statsmodels\\compat\\pandas.py:56: FutureWarning: The pandas.core.datetools module is deprecated and will be removed in a future version. Please use the pandas.tseries module instead.\n",
      "  from pandas.core import datetools\n"
     ]
    }
   ],
   "source": [
    "import pandas as pd\n",
    "import numpy as np\n",
    "import matplotlib.pyplot as plt\n",
    "import seaborn as sns\n",
    "import statsmodels.api as sm\n",
    "%matplotlib inline"
   ]
  },
  {
   "cell_type": "code",
   "execution_count": 3,
   "metadata": {},
   "outputs": [],
   "source": [
    "ncaa_games = pd.read_csv('../football_data/ncaa2017.csv')"
   ]
  },
  {
   "cell_type": "code",
   "execution_count": 4,
   "metadata": {},
   "outputs": [
    {
     "data": {
      "text/html": [
       "<div>\n",
       "<style>\n",
       "    .dataframe thead tr:only-child th {\n",
       "        text-align: right;\n",
       "    }\n",
       "\n",
       "    .dataframe thead th {\n",
       "        text-align: left;\n",
       "    }\n",
       "\n",
       "    .dataframe tbody tr th {\n",
       "        vertical-align: top;\n",
       "    }\n",
       "</style>\n",
       "<table border=\"1\" class=\"dataframe\">\n",
       "  <thead>\n",
       "    <tr style=\"text-align: right;\">\n",
       "      <th></th>\n",
       "      <th>Home</th>\n",
       "      <th>Road</th>\n",
       "      <th>line</th>\n",
       "      <th>vscore</th>\n",
       "      <th>hscore</th>\n",
       "      <th>week</th>\n",
       "      <th>actual</th>\n",
       "    </tr>\n",
       "  </thead>\n",
       "  <tbody>\n",
       "    <tr>\n",
       "      <th>0</th>\n",
       "      <td>Colorado St.</td>\n",
       "      <td>Oregon St.</td>\n",
       "      <td>4.0</td>\n",
       "      <td>27</td>\n",
       "      <td>58</td>\n",
       "      <td>1</td>\n",
       "      <td>31</td>\n",
       "    </tr>\n",
       "    <tr>\n",
       "      <th>1</th>\n",
       "      <td>Massachusetts</td>\n",
       "      <td>Hawaii</td>\n",
       "      <td>3.0</td>\n",
       "      <td>38</td>\n",
       "      <td>35</td>\n",
       "      <td>1</td>\n",
       "      <td>-3</td>\n",
       "    </tr>\n",
       "    <tr>\n",
       "      <th>2</th>\n",
       "      <td>San Jose St.</td>\n",
       "      <td>South Florida</td>\n",
       "      <td>-21.0</td>\n",
       "      <td>42</td>\n",
       "      <td>22</td>\n",
       "      <td>1</td>\n",
       "      <td>-20</td>\n",
       "    </tr>\n",
       "    <tr>\n",
       "      <th>3</th>\n",
       "      <td>Stanford</td>\n",
       "      <td>Rice</td>\n",
       "      <td>30.5</td>\n",
       "      <td>7</td>\n",
       "      <td>62</td>\n",
       "      <td>1</td>\n",
       "      <td>55</td>\n",
       "    </tr>\n",
       "    <tr>\n",
       "      <th>4</th>\n",
       "      <td>Alabama</td>\n",
       "      <td>Florida St.</td>\n",
       "      <td>7.5</td>\n",
       "      <td>7</td>\n",
       "      <td>24</td>\n",
       "      <td>2</td>\n",
       "      <td>17</td>\n",
       "    </tr>\n",
       "  </tbody>\n",
       "</table>\n",
       "</div>"
      ],
      "text/plain": [
       "            Home           Road  line  vscore  hscore  week  actual\n",
       "0   Colorado St.     Oregon St.   4.0      27      58     1      31\n",
       "1  Massachusetts         Hawaii   3.0      38      35     1      -3\n",
       "2   San Jose St.  South Florida -21.0      42      22     1     -20\n",
       "3       Stanford           Rice  30.5       7      62     1      55\n",
       "4        Alabama    Florida St.   7.5       7      24     2      17"
      ]
     },
     "execution_count": 4,
     "metadata": {},
     "output_type": "execute_result"
    }
   ],
   "source": [
    "ncaa_games.head()"
   ]
  },
  {
   "cell_type": "code",
   "execution_count": 5,
   "metadata": {
    "collapsed": true
   },
   "outputs": [],
   "source": [
    "ncaa_games['spread_diff'] = ncaa_games.actual - ncaa_games.line"
   ]
  },
  {
   "cell_type": "code",
   "execution_count": 6,
   "metadata": {},
   "outputs": [
    {
     "data": {
      "image/png": "[encoded data removed]",
      "text/plain": [
       "<matplotlib.figure.Figure at 0x1fbc2ac44e0>"
      ]
     },
     "metadata": {},
     "output_type": "display_data"
    },
    {
     "name": "stdout",
     "output_type": "stream",
     "text": [
      "Mean: -0.18\n",
      "Standard Deviation: 15.71\n"
     ]
    }
   ],
   "source": [
    "plt.hist(ncaa_games.spread_diff, bins=40)\n",
    "plt.title('Difference between Line and Final Score')\n",
    "plt.xlim([-60, 60])\n",
    "plt.tight_layout()\n",
    "plt.show()\n",
    "print('Mean: %.2f' % np.mean(ncaa_games.spread_diff))\n",
    "print('Standard Deviation: %.2f' %  np.std(ncaa_games.spread_diff, ddof=1))"
   ]
  },
  {
   "cell_type": "code",
   "execution_count": 7,
   "metadata": {},
   "outputs": [
    {
     "data": {
      "text/html": [
       "<div>\n",
       "<style>\n",
       "    .dataframe thead tr:only-child th {\n",
       "        text-align: right;\n",
       "    }\n",
       "\n",
       "    .dataframe thead th {\n",
       "        text-align: left;\n",
       "    }\n",
       "\n",
       "    .dataframe tbody tr th {\n",
       "        vertical-align: top;\n",
       "    }\n",
       "</style>\n",
       "<table border=\"1\" class=\"dataframe\">\n",
       "  <thead>\n",
       "    <tr style=\"text-align: right;\">\n",
       "      <th></th>\n",
       "      <th>Home</th>\n",
       "      <th>Road</th>\n",
       "      <th>line</th>\n",
       "      <th>hscore</th>\n",
       "      <th>vscore</th>\n",
       "    </tr>\n",
       "  </thead>\n",
       "  <tbody>\n",
       "    <tr>\n",
       "      <th>319</th>\n",
       "      <td>California</td>\n",
       "      <td>Washington St.</td>\n",
       "      <td>-16.5</td>\n",
       "      <td>37</td>\n",
       "      <td>3</td>\n",
       "    </tr>\n",
       "    <tr>\n",
       "      <th>497</th>\n",
       "      <td>Iowa</td>\n",
       "      <td>Ohio St.</td>\n",
       "      <td>-20.0</td>\n",
       "      <td>55</td>\n",
       "      <td>24</td>\n",
       "    </tr>\n",
       "    <tr>\n",
       "      <th>617</th>\n",
       "      <td>Georgia Southern</td>\n",
       "      <td>South Alabama</td>\n",
       "      <td>-5.0</td>\n",
       "      <td>52</td>\n",
       "      <td>0</td>\n",
       "    </tr>\n",
       "  </tbody>\n",
       "</table>\n",
       "</div>"
      ],
      "text/plain": [
       "                 Home            Road  line  hscore  vscore\n",
       "319        California  Washington St. -16.5      37       3\n",
       "497              Iowa        Ohio St. -20.0      55      24\n",
       "617  Georgia Southern   South Alabama  -5.0      52       0"
      ]
     },
     "execution_count": 7,
     "metadata": {},
     "output_type": "execute_result"
    }
   ],
   "source": [
    "ncaa_games[abs(ncaa_games.spread_diff)>50][\n",
    "    ['Home','Road','line','hscore','vscore']]"
   ]
  },
  {
   "cell_type": "code",
   "execution_count": 8,
   "metadata": {
    "collapsed": true
   },
   "outputs": [],
   "source": [
    "ncaa_games['Home_Win'] = ncaa_games.hscore > ncaa_games.vscore"
   ]
  },
  {
   "cell_type": "code",
   "execution_count": 9,
   "metadata": {},
   "outputs": [
    {
     "data": {
      "image/png": "[encoded data removed]",
      "text/plain": [
       "<matplotlib.figure.Figure at 0x1fbc2ac4208>"
      ]
     },
     "metadata": {},
     "output_type": "display_data"
    }
   ],
   "source": [
    "by_line = ncaa_games[['Home_Win', 'line']].groupby(\n",
    "    ['line']).agg(['mean', 'count'])['Home_Win']\n",
    "plt.scatter(x=by_line.index, \n",
    "            y = by_line['mean'], \n",
    "            s = by_line['count']*15, \n",
    "            alpha = .2)\n",
    "plt.xlim([-40, 40])\n",
    "plt.ylim([-.03, 1.03])\n",
    "plt.xlabel('Spread')\n",
    "plt.ylabel('Probability of Win')\n",
    "plt.tight_layout()\n",
    "plt.show()"
   ]
  },
  {
   "cell_type": "code",
   "execution_count": 10,
   "metadata": {},
   "outputs": [
    {
     "data": {
      "image/png": "[encoded data removed]",
      "text/plain": [
       "<matplotlib.figure.Figure at 0x1fbc323bcf8>"
      ]
     },
     "metadata": {},
     "output_type": "display_data"
    }
   ],
   "source": [
    "def logistic_function(x):\n",
    "    return 1/(1+np.exp(-x))\n",
    "\n",
    "x=np.linspace(-6,6)\n",
    "y=logistic_function(x)\n",
    "\n",
    "plt.plot(x,y)\n",
    "plt.title('Logistic Function')\n",
    "plt.tight_layout()\n",
    "plt.show()"
   ]
  },
  {
   "cell_type": "code",
   "execution_count": 11,
   "metadata": {
    "collapsed": true
   },
   "outputs": [],
   "source": [
    "X = pd.DataFrame(data={'intercept': 1, 'line': ncaa_games.line})\n",
    "y = ncaa_games.Home_Win"
   ]
  },
  {
   "cell_type": "code",
   "execution_count": 12,
   "metadata": {
    "collapsed": true
   },
   "outputs": [],
   "source": [
    "blr = sm.Logit(y,X)"
   ]
  },
  {
   "cell_type": "code",
   "execution_count": 13,
   "metadata": {},
   "outputs": [
    {
     "name": "stdout",
     "output_type": "stream",
     "text": [
      "Optimization terminated successfully.\n",
      "         Current function value: 0.503733\n",
      "         Iterations 6\n"
     ]
    },
    {
     "data": {
      "text/html": [
       "<table class=\"simpletable\">\n",
       "<tr>\n",
       "      <td></td>         <th>coef</th>     <th>std err</th>      <th>z</th>      <th>P>|z|</th>  <th>[0.025</th>    <th>0.975]</th>  \n",
       "</tr>\n",
       "<tr>\n",
       "  <th>intercept</th> <td>   -0.0754</td> <td>    0.090</td> <td>   -0.840</td> <td> 0.401</td> <td>   -0.252</td> <td>    0.101</td>\n",
       "</tr>\n",
       "<tr>\n",
       "  <th>line</th>      <td>    0.1199</td> <td>    0.009</td> <td>   12.922</td> <td> 0.000</td> <td>    0.102</td> <td>    0.138</td>\n",
       "</tr>\n",
       "</table>"
      ],
      "text/plain": [
       "<class 'statsmodels.iolib.table.SimpleTable'>"
      ]
     },
     "execution_count": 13,
     "metadata": {},
     "output_type": "execute_result"
    }
   ],
   "source": [
    "results = blr.fit()\n",
    "results.summary().tables[1]"
   ]
  },
  {
   "cell_type": "code",
   "execution_count": 14,
   "metadata": {},
   "outputs": [
    {
     "data": {
      "image/png": "[encoded data removed]",
      "text/plain": [
       "<matplotlib.figure.Figure at 0x1fbc32cf080>"
      ]
     },
     "metadata": {},
     "output_type": "display_data"
    }
   ],
   "source": [
    "pred_x =pd.DataFrame(data=\n",
    "                     {'intercept': 1, \n",
    "                      'line': np.linspace(X.line.min(),\n",
    "                                          X.line.max(), \n",
    "                                          100)})\n",
    "pred_y = results.predict(pred_x)\n",
    "plt.scatter(x=by_line.index, \n",
    "            y = by_line['mean'], \n",
    "            s = by_line['count']*15, \n",
    "            alpha = .2)\n",
    "plt.xlim([-45, 45])\n",
    "plt.ylim([-.03, 1.03])\n",
    "plt.xlabel('Spread')\n",
    "plt.ylabel('Probability of Win')\n",
    "plt.plot(pred_x.line, pred_y)\n",
    "plt.tight_layout()\n",
    "plt.show()"
   ]
  },
  {
   "cell_type": "code",
   "execution_count": 15,
   "metadata": {},
   "outputs": [
    {
     "name": "stdout",
     "output_type": "stream",
     "text": [
      "Win Probability when team is favored by 6 points:\n",
      "0.66\n"
     ]
    }
   ],
   "source": [
    "def compute_win_proba(spread, model):\n",
    "    return model.predict([1,spread])[0]\n",
    "\n",
    "print('Win Probability when team is favored by 6 points:\\n%.2f' % \n",
    "      compute_win_proba(6, results))"
   ]
  },
  {
   "cell_type": "code",
   "execution_count": 16,
   "metadata": {
    "collapsed": true
   },
   "outputs": [],
   "source": [
    "coefs = -.0754, .1199\n",
    "def predict(line, constant, coef):\n",
    "    return 1/(1+np.exp(-(constant + coef*line)))"
   ]
  },
  {
   "cell_type": "code",
   "execution_count": 17,
   "metadata": {},
   "outputs": [
    {
     "data": {
      "text/plain": [
       "0.65565710549848433"
      ]
     },
     "execution_count": 17,
     "metadata": {},
     "output_type": "execute_result"
    }
   ],
   "source": [
    "predict(6, coefs[0], coefs[1])"
   ]
  },
  {
   "cell_type": "code",
   "execution_count": 18,
   "metadata": {},
   "outputs": [
    {
     "data": {
      "text/html": [
       "<div>\n",
       "<style>\n",
       "    .dataframe thead tr:only-child th {\n",
       "        text-align: right;\n",
       "    }\n",
       "\n",
       "    .dataframe thead th {\n",
       "        text-align: left;\n",
       "    }\n",
       "\n",
       "    .dataframe tbody tr th {\n",
       "        vertical-align: top;\n",
       "    }\n",
       "</style>\n",
       "<table border=\"1\" class=\"dataframe\">\n",
       "  <thead>\n",
       "    <tr style=\"text-align: right;\">\n",
       "      <th></th>\n",
       "      <th>Home</th>\n",
       "      <th>Road</th>\n",
       "      <th>line</th>\n",
       "      <th>vscore</th>\n",
       "      <th>hscore</th>\n",
       "      <th>week</th>\n",
       "      <th>actual</th>\n",
       "      <th>spread_diff</th>\n",
       "      <th>Home_Win</th>\n",
       "    </tr>\n",
       "  </thead>\n",
       "  <tbody>\n",
       "    <tr>\n",
       "      <th>118</th>\n",
       "      <td>Ohio St.</td>\n",
       "      <td>Army</td>\n",
       "      <td>31.0</td>\n",
       "      <td>7</td>\n",
       "      <td>38</td>\n",
       "      <td>4</td>\n",
       "      <td>31</td>\n",
       "      <td>0.0</td>\n",
       "      <td>True</td>\n",
       "    </tr>\n",
       "    <tr>\n",
       "      <th>287</th>\n",
       "      <td>Oklahoma</td>\n",
       "      <td>Iowa St.</td>\n",
       "      <td>31.0</td>\n",
       "      <td>38</td>\n",
       "      <td>31</td>\n",
       "      <td>7</td>\n",
       "      <td>-7</td>\n",
       "      <td>-38.0</td>\n",
       "      <td>False</td>\n",
       "    </tr>\n",
       "    <tr>\n",
       "      <th>584</th>\n",
       "      <td>Penn St.</td>\n",
       "      <td>Rutgers</td>\n",
       "      <td>31.0</td>\n",
       "      <td>6</td>\n",
       "      <td>35</td>\n",
       "      <td>12</td>\n",
       "      <td>29</td>\n",
       "      <td>-2.0</td>\n",
       "      <td>True</td>\n",
       "    </tr>\n",
       "  </tbody>\n",
       "</table>\n",
       "</div>"
      ],
      "text/plain": [
       "         Home      Road  line  vscore  hscore  week  actual  spread_diff  \\\n",
       "118  Ohio St.      Army  31.0       7      38     4      31          0.0   \n",
       "287  Oklahoma  Iowa St.  31.0      38      31     7      -7        -38.0   \n",
       "584  Penn St.   Rutgers  31.0       6      35    12      29         -2.0   \n",
       "\n",
       "     Home_Win  \n",
       "118      True  \n",
       "287     False  \n",
       "584      True  "
      ]
     },
     "execution_count": 18,
     "metadata": {},
     "output_type": "execute_result"
    }
   ],
   "source": [
    "ncaa_games[ncaa_games.line == 31]"
   ]
  },
  {
   "cell_type": "code",
   "execution_count": 19,
   "metadata": {},
   "outputs": [
    {
     "data": {
      "text/html": [
       "<div>\n",
       "<style>\n",
       "    .dataframe thead tr:only-child th {\n",
       "        text-align: right;\n",
       "    }\n",
       "\n",
       "    .dataframe thead th {\n",
       "        text-align: left;\n",
       "    }\n",
       "\n",
       "    .dataframe tbody tr th {\n",
       "        vertical-align: top;\n",
       "    }\n",
       "</style>\n",
       "<table border=\"1\" class=\"dataframe\">\n",
       "  <thead>\n",
       "    <tr style=\"text-align: right;\">\n",
       "      <th></th>\n",
       "      <th>Home</th>\n",
       "      <th>Road</th>\n",
       "      <th>line</th>\n",
       "      <th>vscore</th>\n",
       "      <th>hscore</th>\n",
       "      <th>week</th>\n",
       "      <th>actual</th>\n",
       "      <th>spread_diff</th>\n",
       "      <th>Home_Win</th>\n",
       "    </tr>\n",
       "  </thead>\n",
       "  <tbody>\n",
       "    <tr>\n",
       "      <th>39</th>\n",
       "      <td>Texas</td>\n",
       "      <td>Maryland</td>\n",
       "      <td>19.0</td>\n",
       "      <td>51</td>\n",
       "      <td>41</td>\n",
       "      <td>2</td>\n",
       "      <td>-10</td>\n",
       "      <td>-29.0</td>\n",
       "      <td>False</td>\n",
       "    </tr>\n",
       "    <tr>\n",
       "      <th>339</th>\n",
       "      <td>Louisville</td>\n",
       "      <td>Boston College</td>\n",
       "      <td>19.0</td>\n",
       "      <td>45</td>\n",
       "      <td>42</td>\n",
       "      <td>8</td>\n",
       "      <td>-3</td>\n",
       "      <td>-22.0</td>\n",
       "      <td>False</td>\n",
       "    </tr>\n",
       "  </tbody>\n",
       "</table>\n",
       "</div>"
      ],
      "text/plain": [
       "           Home            Road  line  vscore  hscore  week  actual  \\\n",
       "39        Texas        Maryland  19.0      51      41     2     -10   \n",
       "339  Louisville  Boston College  19.0      45      42     8      -3   \n",
       "\n",
       "     spread_diff  Home_Win  \n",
       "39         -29.0     False  \n",
       "339        -22.0     False  "
      ]
     },
     "execution_count": 19,
     "metadata": {},
     "output_type": "execute_result"
    }
   ],
   "source": [
    "ncaa_games[ncaa_games.line == 19]"
   ]
  },
  {
   "cell_type": "code",
   "execution_count": 20,
   "metadata": {
    "collapsed": true
   },
   "outputs": [],
   "source": [
    "test = ncaa_games[ncaa_games.line!=0]"
   ]
  },
  {
   "cell_type": "code",
   "execution_count": 21,
   "metadata": {},
   "outputs": [
    {
     "name": "stderr",
     "output_type": "stream",
     "text": [
      "C:\\Users\\dbg138\\AppData\\Local\\Continuum\\anaconda3\\lib\\site-packages\\ipykernel_launcher.py:1: SettingWithCopyWarning: \n",
      "A value is trying to be set on a copy of a slice from a DataFrame.\n",
      "Try using .loc[row_indexer,col_indexer] = value instead\n",
      "\n",
      "See the caveats in the documentation: http://pandas.pydata.org/pandas-docs/stable/indexing.html#indexing-view-versus-copy\n",
      "  \"\"\"Entry point for launching an IPython kernel.\n"
     ]
    }
   ],
   "source": [
    "test['line_result'] = test.line > 0"
   ]
  },
  {
   "cell_type": "code",
   "execution_count": 42,
   "metadata": {
    "collapsed": true
   },
   "outputs": [],
   "source": [
    "larger_spread = ncaa_games[abs(ncaa_games.line) >= 15]"
   ]
  },
  {
   "cell_type": "code",
   "execution_count": 43,
   "metadata": {},
   "outputs": [
    {
     "name": "stderr",
     "output_type": "stream",
     "text": [
      "C:\\Users\\dbg138\\AppData\\Local\\Continuum\\anaconda3\\lib\\site-packages\\ipykernel_launcher.py:1: SettingWithCopyWarning: \n",
      "A value is trying to be set on a copy of a slice from a DataFrame.\n",
      "Try using .loc[row_indexer,col_indexer] = value instead\n",
      "\n",
      "See the caveats in the documentation: http://pandas.pydata.org/pandas-docs/stable/indexing.html#indexing-view-versus-copy\n",
      "  \"\"\"Entry point for launching an IPython kernel.\n"
     ]
    }
   ],
   "source": [
    "larger_spread['line_result'] = larger_spread.line > 0"
   ]
  },
  {
   "cell_type": "code",
   "execution_count": 44,
   "metadata": {},
   "outputs": [
    {
     "data": {
      "text/plain": [
       "0.9282511210762332"
      ]
     },
     "execution_count": 44,
     "metadata": {},
     "output_type": "execute_result"
    }
   ],
   "source": [
    "len(larger_spread[larger_spread.line_result==larger_spread.Home_Win])/len(larger_spread)"
   ]
  },
  {
   "cell_type": "code",
   "execution_count": null,
   "metadata": {
    "collapsed": true
   },
   "outputs": [],
   "source": []
  }
 ],
 "metadata": {
  "kernelspec": {
   "display_name": "Python 3",
   "language": "python",
   "name": "python3"
  },
  "language_info": {
   "codemirror_mode": {
    "name": "ipython",
    "version": 3
   },
   "file_extension": ".py",
   "mimetype": "text/x-python",
   "name": "python",
   "nbconvert_exporter": "python",
   "pygments_lexer": "ipython3",
   "version": "3.6.2"
  }
 },
 "nbformat": 4,
 "nbformat_minor": 2
}
